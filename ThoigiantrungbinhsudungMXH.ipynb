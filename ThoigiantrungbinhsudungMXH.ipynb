{
  "nbformat": 4,
  "nbformat_minor": 0,
  "metadata": {
    "colab": {
      "provenance": [],
      "authorship_tag": "ABX9TyP7TvGXqvSj34JEbIbpgKXY",
      "include_colab_link": true
    },
    "kernelspec": {
      "name": "python3",
      "display_name": "Python 3"
    },
    "language_info": {
      "name": "python"
    }
  },
  "cells": [
    {
      "cell_type": "markdown",
      "metadata": {
        "id": "view-in-github",
        "colab_type": "text"
      },
      "source": [
        "<a href=\"https://colab.research.google.com/github/tienhungw/baitap5/blob/master/ThoigiantrungbinhsudungMXH.ipynb\" target=\"_parent\"><img src=\"https://colab.research.google.com/assets/colab-badge.svg\" alt=\"Open In Colab\"/></a>"
      ]
    },
    {
      "cell_type": "code",
      "execution_count": 3,
      "metadata": {
        "id": "0tEXbG7GSav3"
      },
      "outputs": [],
      "source": [
        "# Cài đặt môi trường\n",
        "import pandas as pd\n",
        "import numpy as np\n",
        "from scipy import stats\n",
        "import matplotlib.pyplot as plt\n",
        "%matplotlib inline\n"
      ]
    },
    {
      "cell_type": "code",
      "source": [
        "# Đọc file Excel\n",
        "file = \"KhaoSatThoiGianSuDungMXH.xlsx\"\n",
        "col = \"Trung bình thời gian sử dụng MXH một ngày (giờ)\"\n",
        "\n",
        "df = pd.read_excel(file)\n",
        "print(\"Kích thước dữ liệu ban đầu:\", df.shape)\n",
        "display(df.head())\n",
        "print(df[col].describe())\n",
        "print(\"Số missing:\", df[col].isna().sum())\n"
      ],
      "metadata": {
        "colab": {
          "base_uri": "https://localhost:8080/",
          "height": 511
        },
        "id": "btMWzMMcTCWc",
        "outputId": "8052494d-e78a-45d2-c1a1-00aef75a4b58"
      },
      "execution_count": 12,
      "outputs": [
        {
          "output_type": "stream",
          "name": "stdout",
          "text": [
            "Kích thước dữ liệu ban đầu: (110, 7)\n"
          ]
        },
        {
          "output_type": "display_data",
          "data": {
            "text/plain": [
              "         Dấu thời gian           Họ và tên  Tuổi của bạn Giới tính  \\\n",
              "0  21/09/2025 02:17:08     Nguyễn Thị Hoài            21        Nữ   \n",
              "1  21/09/2025 07:33:37      Trần Đức Dũng             21       Nam   \n",
              "2  21/09/2025 08:03:21      Nguyễn Thị Hoà            21        Nữ   \n",
              "3  21/09/2025 08:12:19  Nguyễn Thị Lan Anh            23        Nữ   \n",
              "4  21/09/2025 08:23:40      Nguyễn Thị Huế            21        Nữ   \n",
              "\n",
              "           Nghề nghiệp  Trung bình thời gian sử dụng MXH một ngày (giờ)  \\\n",
              "0       Lao động tự do                                              2.0   \n",
              "1            Sinh viên                                              7.0   \n",
              "2            Sinh viên                                             10.0   \n",
              "3  Nhân viên văn phòng                                              6.0   \n",
              "4            Sinh viên                                              8.5   \n",
              "\n",
              "  Mạng xã hội thường dùng nhất  \n",
              "0                       Tiktok  \n",
              "1                      Youtube  \n",
              "2                       Tiktok  \n",
              "3                     Facebook  \n",
              "4                       Tiktok  "
            ],
            "text/html": [
              "\n",
              "  <div id=\"df-1313fc2e-dac9-49a6-bd91-99d453584efd\" class=\"colab-df-container\">\n",
              "    <div>\n",
              "<style scoped>\n",
              "    .dataframe tbody tr th:only-of-type {\n",
              "        vertical-align: middle;\n",
              "    }\n",
              "\n",
              "    .dataframe tbody tr th {\n",
              "        vertical-align: top;\n",
              "    }\n",
              "\n",
              "    .dataframe thead th {\n",
              "        text-align: right;\n",
              "    }\n",
              "</style>\n",
              "<table border=\"1\" class=\"dataframe\">\n",
              "  <thead>\n",
              "    <tr style=\"text-align: right;\">\n",
              "      <th></th>\n",
              "      <th>Dấu thời gian</th>\n",
              "      <th>Họ và tên</th>\n",
              "      <th>Tuổi của bạn</th>\n",
              "      <th>Giới tính</th>\n",
              "      <th>Nghề nghiệp</th>\n",
              "      <th>Trung bình thời gian sử dụng MXH một ngày (giờ)</th>\n",
              "      <th>Mạng xã hội thường dùng nhất</th>\n",
              "    </tr>\n",
              "  </thead>\n",
              "  <tbody>\n",
              "    <tr>\n",
              "      <th>0</th>\n",
              "      <td>21/09/2025 02:17:08</td>\n",
              "      <td>Nguyễn Thị Hoài</td>\n",
              "      <td>21</td>\n",
              "      <td>Nữ</td>\n",
              "      <td>Lao động tự do</td>\n",
              "      <td>2.0</td>\n",
              "      <td>Tiktok</td>\n",
              "    </tr>\n",
              "    <tr>\n",
              "      <th>1</th>\n",
              "      <td>21/09/2025 07:33:37</td>\n",
              "      <td>Trần Đức Dũng</td>\n",
              "      <td>21</td>\n",
              "      <td>Nam</td>\n",
              "      <td>Sinh viên</td>\n",
              "      <td>7.0</td>\n",
              "      <td>Youtube</td>\n",
              "    </tr>\n",
              "    <tr>\n",
              "      <th>2</th>\n",
              "      <td>21/09/2025 08:03:21</td>\n",
              "      <td>Nguyễn Thị Hoà</td>\n",
              "      <td>21</td>\n",
              "      <td>Nữ</td>\n",
              "      <td>Sinh viên</td>\n",
              "      <td>10.0</td>\n",
              "      <td>Tiktok</td>\n",
              "    </tr>\n",
              "    <tr>\n",
              "      <th>3</th>\n",
              "      <td>21/09/2025 08:12:19</td>\n",
              "      <td>Nguyễn Thị Lan Anh</td>\n",
              "      <td>23</td>\n",
              "      <td>Nữ</td>\n",
              "      <td>Nhân viên văn phòng</td>\n",
              "      <td>6.0</td>\n",
              "      <td>Facebook</td>\n",
              "    </tr>\n",
              "    <tr>\n",
              "      <th>4</th>\n",
              "      <td>21/09/2025 08:23:40</td>\n",
              "      <td>Nguyễn Thị Huế</td>\n",
              "      <td>21</td>\n",
              "      <td>Nữ</td>\n",
              "      <td>Sinh viên</td>\n",
              "      <td>8.5</td>\n",
              "      <td>Tiktok</td>\n",
              "    </tr>\n",
              "  </tbody>\n",
              "</table>\n",
              "</div>\n",
              "    <div class=\"colab-df-buttons\">\n",
              "\n",
              "  <div class=\"colab-df-container\">\n",
              "    <button class=\"colab-df-convert\" onclick=\"convertToInteractive('df-1313fc2e-dac9-49a6-bd91-99d453584efd')\"\n",
              "            title=\"Convert this dataframe to an interactive table.\"\n",
              "            style=\"display:none;\">\n",
              "\n",
              "  <svg xmlns=\"http://www.w3.org/2000/svg\" height=\"24px\" viewBox=\"0 -960 960 960\">\n",
              "    <path d=\"M120-120v-720h720v720H120Zm60-500h600v-160H180v160Zm220 220h160v-160H400v160Zm0 220h160v-160H400v160ZM180-400h160v-160H180v160Zm440 0h160v-160H620v160ZM180-180h160v-160H180v160Zm440 0h160v-160H620v160Z\"/>\n",
              "  </svg>\n",
              "    </button>\n",
              "\n",
              "  <style>\n",
              "    .colab-df-container {\n",
              "      display:flex;\n",
              "      gap: 12px;\n",
              "    }\n",
              "\n",
              "    .colab-df-convert {\n",
              "      background-color: #E8F0FE;\n",
              "      border: none;\n",
              "      border-radius: 50%;\n",
              "      cursor: pointer;\n",
              "      display: none;\n",
              "      fill: #1967D2;\n",
              "      height: 32px;\n",
              "      padding: 0 0 0 0;\n",
              "      width: 32px;\n",
              "    }\n",
              "\n",
              "    .colab-df-convert:hover {\n",
              "      background-color: #E2EBFA;\n",
              "      box-shadow: 0px 1px 2px rgba(60, 64, 67, 0.3), 0px 1px 3px 1px rgba(60, 64, 67, 0.15);\n",
              "      fill: #174EA6;\n",
              "    }\n",
              "\n",
              "    .colab-df-buttons div {\n",
              "      margin-bottom: 4px;\n",
              "    }\n",
              "\n",
              "    [theme=dark] .colab-df-convert {\n",
              "      background-color: #3B4455;\n",
              "      fill: #D2E3FC;\n",
              "    }\n",
              "\n",
              "    [theme=dark] .colab-df-convert:hover {\n",
              "      background-color: #434B5C;\n",
              "      box-shadow: 0px 1px 3px 1px rgba(0, 0, 0, 0.15);\n",
              "      filter: drop-shadow(0px 1px 2px rgba(0, 0, 0, 0.3));\n",
              "      fill: #FFFFFF;\n",
              "    }\n",
              "  </style>\n",
              "\n",
              "    <script>\n",
              "      const buttonEl =\n",
              "        document.querySelector('#df-1313fc2e-dac9-49a6-bd91-99d453584efd button.colab-df-convert');\n",
              "      buttonEl.style.display =\n",
              "        google.colab.kernel.accessAllowed ? 'block' : 'none';\n",
              "\n",
              "      async function convertToInteractive(key) {\n",
              "        const element = document.querySelector('#df-1313fc2e-dac9-49a6-bd91-99d453584efd');\n",
              "        const dataTable =\n",
              "          await google.colab.kernel.invokeFunction('convertToInteractive',\n",
              "                                                    [key], {});\n",
              "        if (!dataTable) return;\n",
              "\n",
              "        const docLinkHtml = 'Like what you see? Visit the ' +\n",
              "          '<a target=\"_blank\" href=https://colab.research.google.com/notebooks/data_table.ipynb>data table notebook</a>'\n",
              "          + ' to learn more about interactive tables.';\n",
              "        element.innerHTML = '';\n",
              "        dataTable['output_type'] = 'display_data';\n",
              "        await google.colab.output.renderOutput(dataTable, element);\n",
              "        const docLink = document.createElement('div');\n",
              "        docLink.innerHTML = docLinkHtml;\n",
              "        element.appendChild(docLink);\n",
              "      }\n",
              "    </script>\n",
              "  </div>\n",
              "\n",
              "\n",
              "    <div id=\"df-2c466b83-6ebc-4712-9c4f-6746a218ef79\">\n",
              "      <button class=\"colab-df-quickchart\" onclick=\"quickchart('df-2c466b83-6ebc-4712-9c4f-6746a218ef79')\"\n",
              "                title=\"Suggest charts\"\n",
              "                style=\"display:none;\">\n",
              "\n",
              "<svg xmlns=\"http://www.w3.org/2000/svg\" height=\"24px\"viewBox=\"0 0 24 24\"\n",
              "     width=\"24px\">\n",
              "    <g>\n",
              "        <path d=\"M19 3H5c-1.1 0-2 .9-2 2v14c0 1.1.9 2 2 2h14c1.1 0 2-.9 2-2V5c0-1.1-.9-2-2-2zM9 17H7v-7h2v7zm4 0h-2V7h2v10zm4 0h-2v-4h2v4z\"/>\n",
              "    </g>\n",
              "</svg>\n",
              "      </button>\n",
              "\n",
              "<style>\n",
              "  .colab-df-quickchart {\n",
              "      --bg-color: #E8F0FE;\n",
              "      --fill-color: #1967D2;\n",
              "      --hover-bg-color: #E2EBFA;\n",
              "      --hover-fill-color: #174EA6;\n",
              "      --disabled-fill-color: #AAA;\n",
              "      --disabled-bg-color: #DDD;\n",
              "  }\n",
              "\n",
              "  [theme=dark] .colab-df-quickchart {\n",
              "      --bg-color: #3B4455;\n",
              "      --fill-color: #D2E3FC;\n",
              "      --hover-bg-color: #434B5C;\n",
              "      --hover-fill-color: #FFFFFF;\n",
              "      --disabled-bg-color: #3B4455;\n",
              "      --disabled-fill-color: #666;\n",
              "  }\n",
              "\n",
              "  .colab-df-quickchart {\n",
              "    background-color: var(--bg-color);\n",
              "    border: none;\n",
              "    border-radius: 50%;\n",
              "    cursor: pointer;\n",
              "    display: none;\n",
              "    fill: var(--fill-color);\n",
              "    height: 32px;\n",
              "    padding: 0;\n",
              "    width: 32px;\n",
              "  }\n",
              "\n",
              "  .colab-df-quickchart:hover {\n",
              "    background-color: var(--hover-bg-color);\n",
              "    box-shadow: 0 1px 2px rgba(60, 64, 67, 0.3), 0 1px 3px 1px rgba(60, 64, 67, 0.15);\n",
              "    fill: var(--button-hover-fill-color);\n",
              "  }\n",
              "\n",
              "  .colab-df-quickchart-complete:disabled,\n",
              "  .colab-df-quickchart-complete:disabled:hover {\n",
              "    background-color: var(--disabled-bg-color);\n",
              "    fill: var(--disabled-fill-color);\n",
              "    box-shadow: none;\n",
              "  }\n",
              "\n",
              "  .colab-df-spinner {\n",
              "    border: 2px solid var(--fill-color);\n",
              "    border-color: transparent;\n",
              "    border-bottom-color: var(--fill-color);\n",
              "    animation:\n",
              "      spin 1s steps(1) infinite;\n",
              "  }\n",
              "\n",
              "  @keyframes spin {\n",
              "    0% {\n",
              "      border-color: transparent;\n",
              "      border-bottom-color: var(--fill-color);\n",
              "      border-left-color: var(--fill-color);\n",
              "    }\n",
              "    20% {\n",
              "      border-color: transparent;\n",
              "      border-left-color: var(--fill-color);\n",
              "      border-top-color: var(--fill-color);\n",
              "    }\n",
              "    30% {\n",
              "      border-color: transparent;\n",
              "      border-left-color: var(--fill-color);\n",
              "      border-top-color: var(--fill-color);\n",
              "      border-right-color: var(--fill-color);\n",
              "    }\n",
              "    40% {\n",
              "      border-color: transparent;\n",
              "      border-right-color: var(--fill-color);\n",
              "      border-top-color: var(--fill-color);\n",
              "    }\n",
              "    60% {\n",
              "      border-color: transparent;\n",
              "      border-right-color: var(--fill-color);\n",
              "    }\n",
              "    80% {\n",
              "      border-color: transparent;\n",
              "      border-right-color: var(--fill-color);\n",
              "      border-bottom-color: var(--fill-color);\n",
              "    }\n",
              "    90% {\n",
              "      border-color: transparent;\n",
              "      border-bottom-color: var(--fill-color);\n",
              "    }\n",
              "  }\n",
              "</style>\n",
              "\n",
              "      <script>\n",
              "        async function quickchart(key) {\n",
              "          const quickchartButtonEl =\n",
              "            document.querySelector('#' + key + ' button');\n",
              "          quickchartButtonEl.disabled = true;  // To prevent multiple clicks.\n",
              "          quickchartButtonEl.classList.add('colab-df-spinner');\n",
              "          try {\n",
              "            const charts = await google.colab.kernel.invokeFunction(\n",
              "                'suggestCharts', [key], {});\n",
              "          } catch (error) {\n",
              "            console.error('Error during call to suggestCharts:', error);\n",
              "          }\n",
              "          quickchartButtonEl.classList.remove('colab-df-spinner');\n",
              "          quickchartButtonEl.classList.add('colab-df-quickchart-complete');\n",
              "        }\n",
              "        (() => {\n",
              "          let quickchartButtonEl =\n",
              "            document.querySelector('#df-2c466b83-6ebc-4712-9c4f-6746a218ef79 button');\n",
              "          quickchartButtonEl.style.display =\n",
              "            google.colab.kernel.accessAllowed ? 'block' : 'none';\n",
              "        })();\n",
              "      </script>\n",
              "    </div>\n",
              "\n",
              "    </div>\n",
              "  </div>\n"
            ],
            "application/vnd.google.colaboratory.intrinsic+json": {
              "type": "dataframe",
              "summary": "{\n  \"name\": \"print(\\\"S\\u1ed1 missing:\\\", df[col]\",\n  \"rows\": 5,\n  \"fields\": [\n    {\n      \"column\": \"D\\u1ea5u th\\u1eddi gian\",\n      \"properties\": {\n        \"dtype\": \"object\",\n        \"num_unique_values\": 5,\n        \"samples\": [\n          \"21/09/2025 07:33:37\",\n          \"21/09/2025 08:23:40\",\n          \"21/09/2025 08:03:21\"\n        ],\n        \"semantic_type\": \"\",\n        \"description\": \"\"\n      }\n    },\n    {\n      \"column\": \"H\\u1ecd v\\u00e0 t\\u00ean\",\n      \"properties\": {\n        \"dtype\": \"string\",\n        \"num_unique_values\": 5,\n        \"samples\": [\n          \"Tr\\u1ea7n \\u0110\\u1ee9c D\\u0169ng \",\n          \"Nguy\\u1ec5n Th\\u1ecb Hu\\u1ebf\",\n          \"Nguy\\u1ec5n Th\\u1ecb Ho\\u00e0\"\n        ],\n        \"semantic_type\": \"\",\n        \"description\": \"\"\n      }\n    },\n    {\n      \"column\": \"Tu\\u1ed5i c\\u1ee7a b\\u1ea1n\",\n      \"properties\": {\n        \"dtype\": \"number\",\n        \"std\": 0,\n        \"min\": 21,\n        \"max\": 23,\n        \"num_unique_values\": 2,\n        \"samples\": [\n          23,\n          21\n        ],\n        \"semantic_type\": \"\",\n        \"description\": \"\"\n      }\n    },\n    {\n      \"column\": \"Gi\\u1edbi t\\u00ednh\",\n      \"properties\": {\n        \"dtype\": \"category\",\n        \"num_unique_values\": 2,\n        \"samples\": [\n          \"Nam\",\n          \"N\\u1eef\"\n        ],\n        \"semantic_type\": \"\",\n        \"description\": \"\"\n      }\n    },\n    {\n      \"column\": \"Ngh\\u1ec1 nghi\\u1ec7p\",\n      \"properties\": {\n        \"dtype\": \"string\",\n        \"num_unique_values\": 3,\n        \"samples\": [\n          \"Lao \\u0111\\u1ed9ng t\\u1ef1 do\",\n          \"Sinh vi\\u00ean\"\n        ],\n        \"semantic_type\": \"\",\n        \"description\": \"\"\n      }\n    },\n    {\n      \"column\": \"Trung b\\u00ecnh th\\u1eddi gian s\\u1eed d\\u1ee5ng MXH m\\u1ed9t ng\\u00e0y (gi\\u1edd)\",\n      \"properties\": {\n        \"dtype\": \"number\",\n        \"std\": 3.0331501776206204,\n        \"min\": 2.0,\n        \"max\": 10.0,\n        \"num_unique_values\": 5,\n        \"samples\": [\n          7.0,\n          8.5\n        ],\n        \"semantic_type\": \"\",\n        \"description\": \"\"\n      }\n    },\n    {\n      \"column\": \"M\\u1ea1ng x\\u00e3 h\\u1ed9i th\\u01b0\\u1eddng d\\u00f9ng nh\\u1ea5t\",\n      \"properties\": {\n        \"dtype\": \"string\",\n        \"num_unique_values\": 3,\n        \"samples\": [\n          \"Tiktok\",\n          \"Youtube\"\n        ],\n        \"semantic_type\": \"\",\n        \"description\": \"\"\n      }\n    }\n  ]\n}"
            }
          },
          "metadata": {}
        },
        {
          "output_type": "stream",
          "name": "stdout",
          "text": [
            "count    110.000000\n",
            "mean       4.122727\n",
            "std        2.615398\n",
            "min        1.000000\n",
            "25%        2.000000\n",
            "50%        4.000000\n",
            "75%        5.000000\n",
            "max       18.000000\n",
            "Name: Trung bình thời gian sử dụng MXH một ngày (giờ), dtype: float64\n",
            "Số missing: 0\n"
          ]
        }
      ]
    },
    {
      "cell_type": "code",
      "source": [
        "# Chuẩn hoá & làm sạch dữ liệu\n",
        "df[col] = pd.to_numeric(df[col], errors=\"coerce\")\n",
        "df = df[(df[col].isna()) | ((df[col] >= 0) & (df[col] <= 24))]\n"
      ],
      "metadata": {
        "id": "5K8KijheTd0P"
      },
      "execution_count": 5,
      "outputs": []
    },
    {
      "cell_type": "code",
      "source": [
        "# Xử lý missing (giá trị khuyết thiếu)\n",
        "missing_before = df[col].isna().sum()\n",
        "median_val = df[col].median()\n",
        "df[col].fillna(median_val, inplace=True)\n",
        "\n",
        "df[\"zscore\"] = (df[col] - df[col].mean()) / df[col].std(ddof=1)\n",
        "print(df[[\"zscore\"]].head)\n"
      ],
      "metadata": {
        "colab": {
          "base_uri": "https://localhost:8080/"
        },
        "id": "MQEGSUyBTv-Z",
        "outputId": "c9cb5697-cfc7-49f6-f141-bb6e74f47b90"
      },
      "execution_count": 6,
      "outputs": [
        {
          "output_type": "stream",
          "name": "stdout",
          "text": [
            "<bound method NDFrame.head of        zscore\n",
            "0   -0.811627\n",
            "1    1.100128\n",
            "2    2.247181\n",
            "3    0.717777\n",
            "4    1.673655\n",
            "..        ...\n",
            "105  1.864830\n",
            "106  1.100128\n",
            "107 -0.811627\n",
            "108 -0.046925\n",
            "109  0.717777\n",
            "\n",
            "[110 rows x 1 columns]>\n"
          ]
        },
        {
          "output_type": "stream",
          "name": "stderr",
          "text": [
            "/tmp/ipython-input-3925736640.py:4: FutureWarning: A value is trying to be set on a copy of a DataFrame or Series through chained assignment using an inplace method.\n",
            "The behavior will change in pandas 3.0. This inplace method will never work because the intermediate object on which we are setting values always behaves as a copy.\n",
            "\n",
            "For example, when doing 'df[col].method(value, inplace=True)', try using 'df.method({col: value}, inplace=True)' or df[col] = df[col].method(value) instead, to perform the operation inplace on the original object.\n",
            "\n",
            "\n",
            "  df[col].fillna(median_val, inplace=True)\n"
          ]
        }
      ]
    },
    {
      "cell_type": "code",
      "source": [
        "# Phát hiện ngoại lệ (outlier)\n",
        "col = \"Trung bình thời gian sử dụng MXH một ngày (giờ)\"\n",
        "\n",
        "Q1 = df[col].quantile(0.25)\n",
        "Q3 = df[col].quantile(0.75)\n",
        "IQR = Q3 - Q1\n",
        "lower = Q1 - 1.5 * IQR\n",
        "upper = Q3 + 1.5 * IQR\n",
        "\n",
        "outliers = df[(df[col] < lower) | (df[col] > upper)]\n",
        "\n",
        "print(\"Q1 =\", Q1)\n",
        "print(\"Q3 =\", Q3)\n",
        "print(\"IQR =\", IQR)\n",
        "print(\"Ngưỡng dưới =\", lower)\n",
        "print(\"Ngưỡng trên =\", upper)\n",
        "print(\"Số ngoại lệ =\", len(outliers))\n",
        "print(\"Một số giá trị ngoại lệ:\")\n",
        "print(outliers[[col]].head())\n"
      ],
      "metadata": {
        "colab": {
          "base_uri": "https://localhost:8080/"
        },
        "id": "PojY_tGvUGqy",
        "outputId": "7ea05f37-366d-4f95-d040-531c28e7bee6"
      },
      "execution_count": 7,
      "outputs": [
        {
          "output_type": "stream",
          "name": "stdout",
          "text": [
            "Q1 = 2.0\n",
            "Q3 = 5.0\n",
            "IQR = 3.0\n",
            "Ngưỡng dưới = -2.5\n",
            "Ngưỡng trên = 9.5\n",
            "Số ngoại lệ = 3\n",
            "Một số giá trị ngoại lệ:\n",
            "    Trung bình thời gian sử dụng MXH một ngày (giờ)\n",
            "2                                              10.0\n",
            "12                                             18.0\n",
            "50                                             12.0\n"
          ]
        }
      ]
    },
    {
      "cell_type": "code",
      "source": [
        "# Kiểm tra phân phối\n",
        "stats.probplot(df[col], dist=\"norm\", plot=plt)\n",
        "sh_stat, sh_p = stats.shapiro(df[col]) if len(df[col]) <= 5000 else (None, None)\n"
      ],
      "metadata": {
        "colab": {
          "base_uri": "https://localhost:8080/",
          "height": 472
        },
        "id": "oPnziwcGUaon",
        "outputId": "f3f33ee2-1d24-4baa-9dc7-99b0c9d164f0"
      },
      "execution_count": 8,
      "outputs": [
        {
          "output_type": "display_data",
          "data": {
            "text/plain": [
              "<Figure size 640x480 with 1 Axes>"
            ],
            "image/png": "[encoded data removed]"
          },
          "metadata": {}
        }
      ]
    },
    {
      "cell_type": "code",
      "source": [
        "# Khoảng tin cậy 95% cho trung bình (dùng t-distribution)\n",
        "col = \"Trung bình thời gian sử dụng MXH một ngày (giờ)\"\n",
        "\n",
        "n = df.shape[0]                                # kích thước mẫu\n",
        "xbar = df[col].mean()                          # trung bình mẫu\n",
        "s2 = df[col].var(ddof=1)                       # phương sai hiệu chỉnh\n",
        "s = np.sqrt(s2)                                # độ lệch chuẩn mẫu\n",
        "se = s / np.sqrt(n)                            # sai số chuẩn\n",
        "\n",
        "alpha = 0.05\n",
        "dfree = n - 1\n",
        "t_crit = stats.t.ppf(1 - alpha/2, dfree)       # giá trị tới hạn t\n",
        "ci_lower = xbar - t_crit * se\n",
        "ci_upper = xbar + t_crit * se\n",
        "\n",
        "print(\"Kích thước mẫu n =\", n)\n",
        "print(\"Trung bình mẫu =\", round(xbar, 4))\n",
        "print(\"Phương sai hiệu chỉnh (s^2) =\", round(s2, 4))\n",
        "print(\"Độ lệch chuẩn mẫu (s) =\", round(s, 4))\n",
        "print(\"Sai số chuẩn (SE) =\", round(se, 6))\n",
        "print(f\"95% CI cho trung bình: [{ci_lower:.4f}, {ci_upper:.4f}] (t_crit = {t_crit:.4f})\")"
      ],
      "metadata": {
        "colab": {
          "base_uri": "https://localhost:8080/"
        },
        "id": "UxCPNLnPU7Sl",
        "outputId": "0de2b3de-6378-49f4-da45-f2128fc82e5b"
      },
      "execution_count": 9,
      "outputs": [
        {
          "output_type": "stream",
          "name": "stdout",
          "text": [
            "Kích thước mẫu n = 110\n",
            "Trung bình mẫu = 4.1227\n",
            "Phương sai hiệu chỉnh (s^2) = 6.8403\n",
            "Độ lệch chuẩn mẫu (s) = 2.6154\n",
            "Sai số chuẩn (SE) = 0.249368\n",
            "95% CI cho trung bình: [3.6285, 4.6170] (t_crit = 1.9820)\n"
          ]
        }
      ]
    },
    {
      "cell_type": "code",
      "source": [
        "# Kiểm định giả thuyết (1-sample t-test)\n",
        "col = \"Trung bình thời gian sử dụng MXH một ngày (giờ)\"\n",
        "mu0 = 3   # giá trị giả thuyết H0\n",
        "\n",
        "# Thống kê mẫu\n",
        "n = df.shape[0]\n",
        "xbar = df[col].mean()\n",
        "s = df[col].std(ddof=1)\n",
        "se = s / np.sqrt(n)\n",
        "dfree = n - 1\n",
        "\n",
        "# Thống kê t\n",
        "t_stat = (xbar - mu0) / se\n",
        "\n",
        "# p-value cho 1 phía (μ > mu0)\n",
        "p_value_one = 1 - stats.t.cdf(t_stat, dfree)\n",
        "\n",
        "# p-value cho 2 phía (so sánh μ ≠ mu0, tham khảo)\n",
        "p_value_two = (1 - stats.t.cdf(abs(t_stat), dfree)) * 2\n",
        "\n",
        "print(\"Giả thuyết H0: μ =\", mu0)\n",
        "print(\"Giả thuyết H1: μ >\", mu0)\n",
        "print(\"Trung bình mẫu =\", round(xbar,4))\n",
        "print(\"t-stat =\", round(t_stat,4))\n",
        "print(\"p-value (one-sided, H1: μ > mu0) =\", p_value_one)\n",
        "print(\"p-value (two-sided, tham khảo) =\", p_value_two)\n",
        "\n",
        "# Kết luận với alpha = 0.05\n",
        "alpha = 0.05\n",
        "if p_value_one < alpha:\n",
        "    print(\"Bác bỏ H0, chấp nhận H1: Thời gian trung bình > 4 giờ/ngày.\")\n",
        "else:\n",
        "    print(\"Chưa đủ bằng chứng để bác bỏ H0.\")"
      ],
      "metadata": {
        "colab": {
          "base_uri": "https://localhost:8080/"
        },
        "id": "A1MHN9u8VJ60",
        "outputId": "dd4fe1aa-1818-4465-f3cb-7ef0c4a6b5b0"
      },
      "execution_count": 10,
      "outputs": [
        {
          "output_type": "stream",
          "name": "stdout",
          "text": [
            "Giả thuyết H0: μ = 3\n",
            "Giả thuyết H1: μ > 3\n",
            "Trung bình mẫu = 4.1227\n",
            "t-stat = 4.5023\n",
            "p-value (one-sided, H1: μ > mu0) = 8.463464837071832e-06\n",
            "p-value (two-sided, tham khảo) = 1.6926929674143665e-05\n",
            "Bác bỏ H0, chấp nhận H1: Thời gian trung bình > 4 giờ/ngày.\n"
          ]
        }
      ]
    }
  ]
}